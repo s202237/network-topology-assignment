{
 "cells": [
  {
   "cell_type": "code",
   "execution_count": 1,
   "metadata": {},
   "outputs": [],
   "source": [
    "import pytest\n",
    "import hashlib"
   ]
  },
  {
   "cell_type": "code",
   "execution_count": 96,
   "metadata": {},
   "outputs": [],
   "source": [
    "import numpy as np\n",
    "from cobra.io import read_sbml_model\n",
    "from cobra.util import create_stoichiometric_matrix\n",
    "from cobra.io import read_sbml_model\n",
    "model = read_sbml_model('e_coli_core.xml')\n",
    "import symengine"
   ]
  },
  {
   "cell_type": "code",
   "execution_count": 5,
   "metadata": {},
   "outputs": [
    {
     "data": {
      "text/html": [
       "\n",
       "        <table>\n",
       "            <tr>\n",
       "                <td><strong>Name</strong></td>\n",
       "                <td>e_coli_core</td>\n",
       "            </tr><tr>\n",
       "                <td><strong>Memory address</strong></td>\n",
       "                <td>0x07fc42da51a30</td>\n",
       "            </tr><tr>\n",
       "                <td><strong>Number of metabolites</strong></td>\n",
       "                <td>72</td>\n",
       "            </tr><tr>\n",
       "                <td><strong>Number of reactions</strong></td>\n",
       "                <td>95</td>\n",
       "            </tr><tr>\n",
       "                <td><strong>Number of groups</strong></td>\n",
       "                <td>9</td>\n",
       "            </tr><tr>\n",
       "                <td><strong>Objective expression</strong></td>\n",
       "                <td>1.0*BIOMASS_Ecoli_core_w_GAM - 1.0*BIOMASS_Ecoli_core_w_GAM_reverse_712e5</td>\n",
       "            </tr><tr>\n",
       "                <td><strong>Compartments</strong></td>\n",
       "                <td>cytosol, extracellular space</td>\n",
       "            </tr>\n",
       "          </table>"
      ],
      "text/plain": [
       "<Model e_coli_core at 0x7fc42da51a30>"
      ]
     },
     "execution_count": 5,
     "metadata": {},
     "output_type": "execute_result"
    }
   ],
   "source": [
    "model"
   ]
  },
  {
   "cell_type": "code",
   "execution_count": 6,
   "metadata": {},
   "outputs": [],
   "source": [
    "S = create_stoichiometric_matrix(model)\n"
   ]
  },
  {
   "cell_type": "code",
   "execution_count": 7,
   "metadata": {},
   "outputs": [
    {
     "data": {
      "text/plain": [
       "numpy.ndarray"
      ]
     },
     "execution_count": 7,
     "metadata": {},
     "output_type": "execute_result"
    }
   ],
   "source": [
    "type(S)"
   ]
  },
  {
   "cell_type": "code",
   "execution_count": 8,
   "metadata": {},
   "outputs": [
    {
     "data": {
      "text/plain": [
       "array([[ 0.,  0.,  0., ...,  0.,  0.,  0.],\n",
       "       [ 0.,  0.,  0., ...,  0.,  0.,  0.],\n",
       "       [ 0.,  0.,  0., ...,  0.,  0.,  0.],\n",
       "       ...,\n",
       "       [ 0.,  0.,  0., ...,  0.,  0.,  0.],\n",
       "       [ 0.,  0.,  0., ...,  0.,  0.,  0.],\n",
       "       [ 0.,  0.,  0., ..., -1., -1.,  0.]])"
      ]
     },
     "execution_count": 8,
     "metadata": {},
     "output_type": "execute_result"
    }
   ],
   "source": [
    "S"
   ]
  },
  {
   "cell_type": "code",
   "execution_count": 10,
   "metadata": {},
   "outputs": [
    {
     "data": {
      "text/plain": [
       "(72, 95)"
      ]
     },
     "execution_count": 10,
     "metadata": {},
     "output_type": "execute_result"
    }
   ],
   "source": [
    "S.shape "
   ]
  },
  {
   "cell_type": "code",
   "execution_count": 11,
   "metadata": {},
   "outputs": [],
   "source": [
    "S_bin = np.where(S!=0., 1., 0.)"
   ]
  },
  {
   "cell_type": "code",
   "execution_count": 12,
   "metadata": {},
   "outputs": [
    {
     "data": {
      "text/plain": [
       "array([[0., 0., 0., ..., 0., 0., 0.],\n",
       "       [0., 0., 0., ..., 0., 0., 0.],\n",
       "       [0., 0., 0., ..., 0., 0., 0.],\n",
       "       ...,\n",
       "       [0., 0., 0., ..., 0., 0., 0.],\n",
       "       [0., 0., 0., ..., 0., 0., 0.],\n",
       "       [0., 0., 0., ..., 1., 1., 0.]])"
      ]
     },
     "execution_count": 12,
     "metadata": {},
     "output_type": "execute_result"
    }
   ],
   "source": [
    "S_bin"
   ]
  },
  {
   "cell_type": "code",
   "execution_count": 13,
   "metadata": {},
   "outputs": [
    {
     "data": {
      "text/plain": [
       "array([[ 0.,  0.,  0., ...,  0.,  0.,  0.],\n",
       "       [ 0.,  0.,  0., ...,  0.,  0.,  0.],\n",
       "       [ 0.,  0.,  0., ...,  0.,  0.,  0.],\n",
       "       ...,\n",
       "       [ 0.,  0.,  0., ...,  0.,  0., -1.],\n",
       "       [ 0.,  0.,  0., ...,  0.,  0., -1.],\n",
       "       [ 0.,  0.,  0., ...,  0.,  0.,  0.]])"
      ]
     },
     "execution_count": 13,
     "metadata": {},
     "output_type": "execute_result"
    }
   ],
   "source": [
    "S.T"
   ]
  },
  {
   "cell_type": "code",
   "execution_count": 14,
   "metadata": {},
   "outputs": [],
   "source": [
    "A_v = S_bin.T.dot(S_bin)"
   ]
  },
  {
   "cell_type": "code",
   "execution_count": 87,
   "metadata": {},
   "outputs": [
    {
     "data": {
      "text/plain": [
       "array([ 6.,  2.,  4.,  3.,  3.,  4.,  3.,  6.,  4.,  5.,  5.,  6., 23.,\n",
       "        2.,  6.,  6.,  4.,  3.,  4.,  1.,  1.,  1.,  1.,  1.,  1.,  1.,\n",
       "        1.,  1.,  1.,  1.,  1.,  1.,  1.,  1.,  1.,  1.,  1.,  1.,  1.,\n",
       "        3.,  4.,  4.,  2.,  4.,  4.,  3.,  4.,  5.,  6.,  4.,  7.,  7.,\n",
       "        7.,  4.,  6.,  4.,  5.,  2.,  5.,  3.,  5.,  6.,  4.,  5.,  5.,\n",
       "        5.,  6.,  4.,  2.,  2.,  6.,  5.,  4.,  2.,  4.,  4.,  2.,  4.,\n",
       "        6.,  5.,  7.,  4.,  5.,  4.,  2.,  2.,  4.,  4.,  4.,  6.,  4.,\n",
       "        6.,  4.,  4.,  2.])"
      ]
     },
     "execution_count": 87,
     "metadata": {},
     "output_type": "execute_result"
    }
   ],
   "source": [
    "A_v.diagonal()"
   ]
  },
  {
   "cell_type": "code",
   "execution_count": 86,
   "metadata": {},
   "outputs": [
    {
     "data": {
      "text/plain": [
       "[<Reaction ACALD at 0x7fc485af15e0>,\n",
       " <Reaction ACALDt at 0x7fc485a89f10>,\n",
       " <Reaction ACKr at 0x7fc485aaa8e0>,\n",
       " <Reaction ACONTa at 0x7fc485aaa610>,\n",
       " <Reaction ACONTb at 0x7fc485aaa9d0>,\n",
       " <Reaction ACt2r at 0x7fc485aaafa0>,\n",
       " <Reaction ADK1 at 0x7fc485aaaa60>,\n",
       " <Reaction AKGDH at 0x7fc485aaafd0>,\n",
       " <Reaction AKGt2r at 0x7fc485aaa940>,\n",
       " <Reaction ALCD2x at 0x7fc485aaa760>,\n",
       " <Reaction ATPM at 0x7fc485aaaf70>,\n",
       " <Reaction ATPS4r at 0x7fc485aaad90>,\n",
       " <Reaction BIOMASS_Ecoli_core_w_GAM at 0x7fc485ab7d30>,\n",
       " <Reaction CO2t at 0x7fc485ac1af0>,\n",
       " <Reaction CS at 0x7fc485aaa040>,\n",
       " <Reaction CYTBD at 0x7fc485ac1640>,\n",
       " <Reaction D_LACt2 at 0x7fc485aaad60>,\n",
       " <Reaction ENO at 0x7fc485a4cfa0>,\n",
       " <Reaction ETOHt2r at 0x7fc485a4cfd0>,\n",
       " <Reaction EX_ac_e at 0x7fc485ac16a0>,\n",
       " <Reaction EX_acald_e at 0x7fc485ac1130>,\n",
       " <Reaction EX_akg_e at 0x7fc485aaa160>,\n",
       " <Reaction EX_co2_e at 0x7fc485aaab80>,\n",
       " <Reaction EX_etoh_e at 0x7fc485aaa1f0>,\n",
       " <Reaction EX_for_e at 0x7fc485aaa070>,\n",
       " <Reaction EX_fru_e at 0x7fc485aaa130>,\n",
       " <Reaction EX_fum_e at 0x7fc485aaa100>,\n",
       " <Reaction EX_glc__D_e at 0x7fc485a55ac0>,\n",
       " <Reaction EX_gln__L_e at 0x7fc485a553a0>,\n",
       " <Reaction EX_glu__L_e at 0x7fc485a55970>,\n",
       " <Reaction EX_h_e at 0x7fc485a55b80>,\n",
       " <Reaction EX_h2o_e at 0x7fc485a55c10>,\n",
       " <Reaction EX_lac__D_e at 0x7fc485a55c40>,\n",
       " <Reaction EX_mal__L_e at 0x7fc485a55a90>,\n",
       " <Reaction EX_nh4_e at 0x7fc485a55d60>,\n",
       " <Reaction EX_o2_e at 0x7fc485a55ca0>,\n",
       " <Reaction EX_pi_e at 0x7fc485a55f70>,\n",
       " <Reaction EX_pyr_e at 0x7fc485a55fa0>,\n",
       " <Reaction EX_succ_e at 0x7fc485a559d0>,\n",
       " <Reaction FBA at 0x7fc485a559a0>,\n",
       " <Reaction FBP at 0x7fc485a4cc10>,\n",
       " <Reaction FORt2 at 0x7fc485ac1940>,\n",
       " <Reaction FORti at 0x7fc485a62c70>,\n",
       " <Reaction FRD7 at 0x7fc485a62f40>,\n",
       " <Reaction FRUpts2 at 0x7fc485a629a0>,\n",
       " <Reaction FUM at 0x7fc485a62ca0>,\n",
       " <Reaction FUMt2_2 at 0x7fc485a62a00>,\n",
       " <Reaction G6PDH2r at 0x7fc485a625b0>,\n",
       " <Reaction GAPD at 0x7fc485a62670>,\n",
       " <Reaction GLCpts at 0x7fc485a6df40>,\n",
       " <Reaction GLNS at 0x7fc485a62d60>,\n",
       " <Reaction GLNabc at 0x7fc485a4cee0>,\n",
       " <Reaction GLUDy at 0x7fc485a6d640>,\n",
       " <Reaction GLUN at 0x7fc485a778b0>,\n",
       " <Reaction GLUSy at 0x7fc485a62f10>,\n",
       " <Reaction GLUt2r at 0x7fc485a62940>,\n",
       " <Reaction GND at 0x7fc485a62cd0>,\n",
       " <Reaction H2Ot at 0x7fc485a81d90>,\n",
       " <Reaction ICDHyr at 0x7fc485a62f70>,\n",
       " <Reaction ICL at 0x7fc485a62fa0>,\n",
       " <Reaction LDH_D at 0x7fc485a629d0>,\n",
       " <Reaction MALS at 0x7fc485a62880>,\n",
       " <Reaction MALt2_2 at 0x7fc485a818e0>,\n",
       " <Reaction MDH at 0x7fc485a81e50>,\n",
       " <Reaction ME1 at 0x7fc485a6dfd0>,\n",
       " <Reaction ME2 at 0x7fc485a628e0>,\n",
       " <Reaction NADH16 at 0x7fc485a818b0>,\n",
       " <Reaction NADTRHD at 0x7fc485a15c40>,\n",
       " <Reaction NH4t at 0x7fc485a15670>,\n",
       " <Reaction O2t at 0x7fc485a15940>,\n",
       " <Reaction PDH at 0x7fc485a15730>,\n",
       " <Reaction PFK at 0x7fc485a0d8b0>,\n",
       " <Reaction PFL at 0x7fc485a15df0>,\n",
       " <Reaction PGI at 0x7fc485a20fa0>,\n",
       " <Reaction PGK at 0x7fc485a6dd30>,\n",
       " <Reaction PGL at 0x7fc485a0d820>,\n",
       " <Reaction PGM at 0x7fc485a6deb0>,\n",
       " <Reaction PIt2r at 0x7fc485a81d00>,\n",
       " <Reaction PPC at 0x7fc485a158b0>,\n",
       " <Reaction PPCK at 0x7fc485a2ad00>,\n",
       " <Reaction PPS at 0x7fc485a2abb0>,\n",
       " <Reaction PTAr at 0x7fc485a81cd0>,\n",
       " <Reaction PYK at 0x7fc485a20ac0>,\n",
       " <Reaction PYRt2 at 0x7fc485a2ae80>,\n",
       " <Reaction RPE at 0x7fc485a20d90>,\n",
       " <Reaction RPI at 0x7fc485a0dd30>,\n",
       " <Reaction SUCCt2_2 at 0x7fc485a2ad60>,\n",
       " <Reaction SUCCt3 at 0x7fc485a34f70>,\n",
       " <Reaction SUCDi at 0x7fc485a34400>,\n",
       " <Reaction SUCOAS at 0x7fc485a15c70>,\n",
       " <Reaction TALA at 0x7fc485a0db50>,\n",
       " <Reaction THD2 at 0x7fc485a3fca0>,\n",
       " <Reaction TKT1 at 0x7fc485a3fd60>,\n",
       " <Reaction TKT2 at 0x7fc485a34be0>,\n",
       " <Reaction TPI at 0x7fc4859c9c70>]"
      ]
     },
     "execution_count": 86,
     "metadata": {},
     "output_type": "execute_result"
    }
   ],
   "source": [
    "model.reactions"
   ]
  },
  {
   "cell_type": "code",
   "execution_count": 15,
   "metadata": {},
   "outputs": [
    {
     "data": {
      "text/plain": [
       "array([[6., 1., 0., ..., 0., 0., 0.],\n",
       "       [1., 2., 0., ..., 0., 0., 0.],\n",
       "       [0., 0., 4., ..., 0., 0., 0.],\n",
       "       ...,\n",
       "       [0., 0., 0., ..., 4., 2., 1.],\n",
       "       [0., 0., 0., ..., 2., 4., 1.],\n",
       "       [0., 0., 0., ..., 1., 1., 2.]])"
      ]
     },
     "execution_count": 15,
     "metadata": {},
     "output_type": "execute_result"
    }
   ],
   "source": [
    "A_v"
   ]
  },
  {
   "cell_type": "code",
   "execution_count": 16,
   "metadata": {},
   "outputs": [
    {
     "data": {
      "text/plain": [
       "(95, 95)"
      ]
     },
     "execution_count": 16,
     "metadata": {},
     "output_type": "execute_result"
    }
   ],
   "source": [
    "A_v.shape\n"
   ]
  },
  {
   "cell_type": "code",
   "execution_count": 17,
   "metadata": {},
   "outputs": [],
   "source": [
    "A_x = S_bin.dot(S_bin.T)"
   ]
  },
  {
   "cell_type": "code",
   "execution_count": 38,
   "metadata": {},
   "outputs": [
    {
     "data": {
      "text/html": [
       "\n",
       "        <table>\n",
       "            <tr>\n",
       "                <td><strong>Metabolite identifier</strong></td><td>13dpg_c</td>\n",
       "            </tr><tr>\n",
       "                <td><strong>Name</strong></td><td>3-Phospho-D-glyceroyl phosphate</td>\n",
       "            </tr><tr>\n",
       "                <td><strong>Memory address</strong></td>\n",
       "                <td>0x07fc42da61220</td>\n",
       "            </tr><tr>\n",
       "                <td><strong>Formula</strong></td><td>C3H4O10P2</td>\n",
       "            </tr><tr>\n",
       "                <td><strong>Compartment</strong></td><td>c</td>\n",
       "            </tr><tr>\n",
       "                <td><strong>In 2 reaction(s)</strong></td><td>\n",
       "                    PGK, GAPD</td>\n",
       "            </tr>\n",
       "        </table>"
      ],
      "text/plain": [
       "<Metabolite 13dpg_c at 0x7fc42da61220>"
      ]
     },
     "execution_count": 38,
     "metadata": {},
     "output_type": "execute_result"
    }
   ],
   "source": [
    "model.metabolites[0]"
   ]
  },
  {
   "cell_type": "code",
   "execution_count": 18,
   "metadata": {},
   "outputs": [
    {
     "data": {
      "text/plain": [
       "array([[2., 0., 1., ..., 0., 0., 0.],\n",
       "       [0., 2., 1., ..., 0., 0., 0.],\n",
       "       [1., 1., 3., ..., 0., 0., 0.],\n",
       "       ...,\n",
       "       [0., 0., 0., ..., 3., 0., 0.],\n",
       "       [0., 0., 0., ..., 0., 2., 0.],\n",
       "       [0., 0., 0., ..., 0., 0., 3.]])"
      ]
     },
     "execution_count": 18,
     "metadata": {},
     "output_type": "execute_result"
    }
   ],
   "source": [
    "A_x"
   ]
  },
  {
   "cell_type": "code",
   "execution_count": 27,
   "metadata": {},
   "outputs": [
    {
     "data": {
      "text/plain": [
       "array([ 2.,  2.,  3.,  2.,  2.,  2.,  2.,  3.,  2.,  7.,  2.,  2., 12.,\n",
       "        6.,  2.,  2., 13.,  2.,  9.,  2.,  9.,  2.,  3.,  2.,  2.,  7.,\n",
       "        3.,  3.,  3.,  2.,  4.,  2.,  7.,  4.,  2.,  5.,  2.,  6.,  2.,\n",
       "        2., 18.,  2., 35., 17.,  3.,  2.,  2.,  6.,  2., 12., 12.,  9.,\n",
       "        9.,  4.,  2.,  2.,  2.,  5.,  8., 12.,  2., 11.,  2.,  4.,  4.,\n",
       "        3.,  3.,  2.,  6.,  3.,  2.,  3.])"
      ]
     },
     "execution_count": 27,
     "metadata": {},
     "output_type": "execute_result"
    }
   ],
   "source": [
    "A_x.diagonal()"
   ]
  },
  {
   "cell_type": "code",
   "execution_count": 29,
   "metadata": {},
   "outputs": [
    {
     "data": {
      "text/plain": [
       "42"
      ]
     },
     "execution_count": 29,
     "metadata": {},
     "output_type": "execute_result"
    }
   ],
   "source": [
    "A_x.diagonal().argmax()"
   ]
  },
  {
   "cell_type": "code",
   "execution_count": 39,
   "metadata": {},
   "outputs": [
    {
     "data": {
      "text/html": [
       "\n",
       "        <table>\n",
       "            <tr>\n",
       "                <td><strong>Metabolite identifier</strong></td><td>h_c</td>\n",
       "            </tr><tr>\n",
       "                <td><strong>Name</strong></td><td>H+</td>\n",
       "            </tr><tr>\n",
       "                <td><strong>Memory address</strong></td>\n",
       "                <td>0x07fc485ac99d0</td>\n",
       "            </tr><tr>\n",
       "                <td><strong>Formula</strong></td><td>H</td>\n",
       "            </tr><tr>\n",
       "                <td><strong>Compartment</strong></td><td>c</td>\n",
       "            </tr><tr>\n",
       "                <td><strong>In 35 reaction(s)</strong></td><td>\n",
       "                    PGL, CS, MALS, NADH16, PFK, PPC, MALt2_2, AKGt2r, FORt2, GLUt2r, LDH_D, FUMt2_2, PYK, PPS, THD2, PIt2r, BIOMASS_Ecoli_core_w_GAM, D_LACt2, GLNS, SUCCt2_2, ATPS4r, G6PDH2r, ACALD, CYTBD, GLUDy, MDH,...</td>\n",
       "            </tr>\n",
       "        </table>"
      ],
      "text/plain": [
       "<Metabolite h_c at 0x7fc485ac99d0>"
      ]
     },
     "execution_count": 39,
     "metadata": {},
     "output_type": "execute_result"
    }
   ],
   "source": [
    "model.metabolites[42]"
   ]
  },
  {
   "cell_type": "code",
   "execution_count": 88,
   "metadata": {},
   "outputs": [
    {
     "data": {
      "text/plain": [
       "cobra.core.metabolite.Metabolite"
      ]
     },
     "execution_count": 88,
     "metadata": {},
     "output_type": "execute_result"
    }
   ],
   "source": [
    "type(model.metabolites[42])"
   ]
  },
  {
   "cell_type": "code",
   "execution_count": null,
   "metadata": {},
   "outputs": [],
   "source": []
  },
  {
   "cell_type": "code",
   "execution_count": 30,
   "metadata": {},
   "outputs": [],
   "source": [
    "most_connected_metabolite = A_x.diagonal().argmax()"
   ]
  },
  {
   "cell_type": "code",
   "execution_count": 32,
   "metadata": {},
   "outputs": [
    {
     "data": {
      "text/plain": [
       "[<Metabolite 13dpg_c at 0x7fc42da61220>,\n",
       " <Metabolite 2pg_c at 0x7fc42da61280>,\n",
       " <Metabolite 3pg_c at 0x7fc42da61340>,\n",
       " <Metabolite 6pgc_c at 0x7fc42da61460>,\n",
       " <Metabolite 6pgl_c at 0x7fc42da61550>,\n",
       " <Metabolite ac_c at 0x7fc42da615b0>,\n",
       " <Metabolite ac_e at 0x7fc42da61610>,\n",
       " <Metabolite acald_c at 0x7fc42da616d0>,\n",
       " <Metabolite acald_e at 0x7fc42da61700>,\n",
       " <Metabolite accoa_c at 0x7fc42da61730>,\n",
       " <Metabolite acon_C_c at 0x7fc42da617f0>,\n",
       " <Metabolite actp_c at 0x7fc42da618b0>,\n",
       " <Metabolite adp_c at 0x7fc42da61940>,\n",
       " <Metabolite akg_c at 0x7fc42da619d0>,\n",
       " <Metabolite akg_e at 0x7fc42da61a60>,\n",
       " <Metabolite amp_c at 0x7fc42da61ac0>,\n",
       " <Metabolite atp_c at 0x7fc42da61b20>,\n",
       " <Metabolite cit_c at 0x7fc42da61bb0>,\n",
       " <Metabolite co2_c at 0x7fc42da61c70>,\n",
       " <Metabolite co2_e at 0x7fc42da61d30>,\n",
       " <Metabolite coa_c at 0x7fc42da61df0>,\n",
       " <Metabolite dhap_c at 0x7fc42da61e80>,\n",
       " <Metabolite e4p_c at 0x7fc42da61f10>,\n",
       " <Metabolite etoh_c at 0x7fc42da61f70>,\n",
       " <Metabolite etoh_e at 0x7fc42da61fd0>,\n",
       " <Metabolite f6p_c at 0x7fc42da61100>,\n",
       " <Metabolite fdp_c at 0x7fc42da613a0>,\n",
       " <Metabolite for_c at 0x7fc42da61400>,\n",
       " <Metabolite for_e at 0x7fc42da61430>,\n",
       " <Metabolite fru_e at 0x7fc42da61fa0>,\n",
       " <Metabolite fum_c at 0x7fc42da61310>,\n",
       " <Metabolite fum_e at 0x7fc42da61520>,\n",
       " <Metabolite g3p_c at 0x7fc42da61f40>,\n",
       " <Metabolite g6p_c at 0x7fc485ac94f0>,\n",
       " <Metabolite glc__D_e at 0x7fc485ac9520>,\n",
       " <Metabolite gln__L_c at 0x7fc485ac95b0>,\n",
       " <Metabolite gln__L_e at 0x7fc485ac9640>,\n",
       " <Metabolite glu__L_c at 0x7fc485ac96d0>,\n",
       " <Metabolite glu__L_e at 0x7fc485ac9760>,\n",
       " <Metabolite glx_c at 0x7fc485ac9820>,\n",
       " <Metabolite h2o_c at 0x7fc485ac98b0>,\n",
       " <Metabolite h2o_e at 0x7fc485ac9940>,\n",
       " <Metabolite h_c at 0x7fc485ac99d0>,\n",
       " <Metabolite h_e at 0x7fc485ac9a60>,\n",
       " <Metabolite icit_c at 0x7fc485ac9ac0>,\n",
       " <Metabolite lac__D_c at 0x7fc485ac9be0>,\n",
       " <Metabolite lac__D_e at 0x7fc485ac9d00>,\n",
       " <Metabolite mal__L_c at 0x7fc485ac9d60>,\n",
       " <Metabolite mal__L_e at 0x7fc485ac9dc0>,\n",
       " <Metabolite nad_c at 0x7fc42da512b0>,\n",
       " <Metabolite nadh_c at 0x7fc49c73c520>,\n",
       " <Metabolite nadp_c at 0x7fc4307249a0>,\n",
       " <Metabolite nadph_c at 0x7fc42da51130>,\n",
       " <Metabolite nh4_c at 0x7fc42da511f0>,\n",
       " <Metabolite nh4_e at 0x7fc485ac9f10>,\n",
       " <Metabolite o2_c at 0x7fc485ac9f40>,\n",
       " <Metabolite o2_e at 0x7fc485ac9fa0>,\n",
       " <Metabolite oaa_c at 0x7fc485ac9e50>,\n",
       " <Metabolite pep_c at 0x7fc485ac93a0>,\n",
       " <Metabolite pi_c at 0x7fc485ac9e20>,\n",
       " <Metabolite pi_e at 0x7fc485ac9f70>,\n",
       " <Metabolite pyr_c at 0x7fc485ac9d90>,\n",
       " <Metabolite pyr_e at 0x7fc485ac9df0>,\n",
       " <Metabolite q8_c at 0x7fc485ac9280>,\n",
       " <Metabolite q8h2_c at 0x7fc485ac9ee0>,\n",
       " <Metabolite r5p_c at 0x7fc485ac9310>,\n",
       " <Metabolite ru5p__D_c at 0x7fc485adf580>,\n",
       " <Metabolite s7p_c at 0x7fc485adf5b0>,\n",
       " <Metabolite succ_c at 0x7fc485adf5e0>,\n",
       " <Metabolite succ_e at 0x7fc485adf610>,\n",
       " <Metabolite succoa_c at 0x7fc485adf670>,\n",
       " <Metabolite xu5p__D_c at 0x7fc485adf6d0>]"
      ]
     },
     "execution_count": 32,
     "metadata": {},
     "output_type": "execute_result"
    }
   ],
   "source": [
    "model.metabolites"
   ]
  },
  {
   "cell_type": "code",
   "execution_count": 35,
   "metadata": {},
   "outputs": [
    {
     "data": {
      "text/html": [
       "\n",
       "        <table>\n",
       "            <tr>\n",
       "                <td><strong>Metabolite identifier</strong></td><td>h_c</td>\n",
       "            </tr><tr>\n",
       "                <td><strong>Name</strong></td><td>H+</td>\n",
       "            </tr><tr>\n",
       "                <td><strong>Memory address</strong></td>\n",
       "                <td>0x07fc485ac99d0</td>\n",
       "            </tr><tr>\n",
       "                <td><strong>Formula</strong></td><td>H</td>\n",
       "            </tr><tr>\n",
       "                <td><strong>Compartment</strong></td><td>c</td>\n",
       "            </tr><tr>\n",
       "                <td><strong>In 35 reaction(s)</strong></td><td>\n",
       "                    PGL, CS, MALS, NADH16, PFK, PPC, MALt2_2, AKGt2r, FORt2, GLUt2r, LDH_D, FUMt2_2, PYK, PPS, THD2, PIt2r, BIOMASS_Ecoli_core_w_GAM, D_LACt2, GLNS, SUCCt2_2, ATPS4r, G6PDH2r, ACALD, CYTBD, GLUDy, MDH,...</td>\n",
       "            </tr>\n",
       "        </table>"
      ],
      "text/plain": [
       "<Metabolite h_c at 0x7fc485ac99d0>"
      ]
     },
     "execution_count": 35,
     "metadata": {},
     "output_type": "execute_result"
    }
   ],
   "source": [
    "model.metabolites[most_connected_metabolite]"
   ]
  },
  {
   "cell_type": "code",
   "execution_count": 40,
   "metadata": {},
   "outputs": [
    {
     "data": {
      "text/plain": [
       "cobra.core.metabolite.Metabolite"
      ]
     },
     "execution_count": 40,
     "metadata": {},
     "output_type": "execute_result"
    }
   ],
   "source": [
    "type(model.metabolites[most_connected_metabolite])"
   ]
  },
  {
   "cell_type": "code",
   "execution_count": 48,
   "metadata": {},
   "outputs": [
    {
     "data": {
      "text/html": [
       "\n",
       "        <table>\n",
       "            <tr>\n",
       "                <td><strong>Metabolite identifier</strong></td><td>atp_c</td>\n",
       "            </tr><tr>\n",
       "                <td><strong>Name</strong></td><td>ATP</td>\n",
       "            </tr><tr>\n",
       "                <td><strong>Memory address</strong></td>\n",
       "                <td>0x07fc42da61b20</td>\n",
       "            </tr><tr>\n",
       "                <td><strong>Formula</strong></td><td>C10H12N5O13P3</td>\n",
       "            </tr><tr>\n",
       "                <td><strong>Compartment</strong></td><td>c</td>\n",
       "            </tr><tr>\n",
       "                <td><strong>In 13 reaction(s)</strong></td><td>\n",
       "                    ADK1, SUCOAS, PFK, PYK, ACKr, GLNabc, PPCK, BIOMASS_Ecoli_core_w_GAM, PGK, GLNS, ATPM, ATPS4r, PPS</td>\n",
       "            </tr>\n",
       "        </table>"
      ],
      "text/plain": [
       "<Metabolite atp_c at 0x7fc42da61b20>"
      ]
     },
     "execution_count": 48,
     "metadata": {},
     "output_type": "execute_result"
    }
   ],
   "source": [
    "model.metabolites.get_by_id(\"atp_c\")"
   ]
  },
  {
   "cell_type": "code",
   "execution_count": 62,
   "metadata": {},
   "outputs": [
    {
     "data": {
      "text/plain": [
       "<bound method DictList.index of [<Metabolite 13dpg_c at 0x7fc42da61220>, <Metabolite 2pg_c at 0x7fc42da61280>, <Metabolite 3pg_c at 0x7fc42da61340>, <Metabolite 6pgc_c at 0x7fc42da61460>, <Metabolite 6pgl_c at 0x7fc42da61550>, <Metabolite ac_c at 0x7fc42da615b0>, <Metabolite ac_e at 0x7fc42da61610>, <Metabolite acald_c at 0x7fc42da616d0>, <Metabolite acald_e at 0x7fc42da61700>, <Metabolite accoa_c at 0x7fc42da61730>, <Metabolite acon_C_c at 0x7fc42da617f0>, <Metabolite actp_c at 0x7fc42da618b0>, <Metabolite adp_c at 0x7fc42da61940>, <Metabolite akg_c at 0x7fc42da619d0>, <Metabolite akg_e at 0x7fc42da61a60>, <Metabolite amp_c at 0x7fc42da61ac0>, <Metabolite atp_c at 0x7fc42da61b20>, <Metabolite cit_c at 0x7fc42da61bb0>, <Metabolite co2_c at 0x7fc42da61c70>, <Metabolite co2_e at 0x7fc42da61d30>, <Metabolite coa_c at 0x7fc42da61df0>, <Metabolite dhap_c at 0x7fc42da61e80>, <Metabolite e4p_c at 0x7fc42da61f10>, <Metabolite etoh_c at 0x7fc42da61f70>, <Metabolite etoh_e at 0x7fc42da61fd0>, <Metabolite f6p_c at 0x7fc42da61100>, <Metabolite fdp_c at 0x7fc42da613a0>, <Metabolite for_c at 0x7fc42da61400>, <Metabolite for_e at 0x7fc42da61430>, <Metabolite fru_e at 0x7fc42da61fa0>, <Metabolite fum_c at 0x7fc42da61310>, <Metabolite fum_e at 0x7fc42da61520>, <Metabolite g3p_c at 0x7fc42da61f40>, <Metabolite g6p_c at 0x7fc485ac94f0>, <Metabolite glc__D_e at 0x7fc485ac9520>, <Metabolite gln__L_c at 0x7fc485ac95b0>, <Metabolite gln__L_e at 0x7fc485ac9640>, <Metabolite glu__L_c at 0x7fc485ac96d0>, <Metabolite glu__L_e at 0x7fc485ac9760>, <Metabolite glx_c at 0x7fc485ac9820>, <Metabolite h2o_c at 0x7fc485ac98b0>, <Metabolite h2o_e at 0x7fc485ac9940>, <Metabolite h_c at 0x7fc485ac99d0>, <Metabolite h_e at 0x7fc485ac9a60>, <Metabolite icit_c at 0x7fc485ac9ac0>, <Metabolite lac__D_c at 0x7fc485ac9be0>, <Metabolite lac__D_e at 0x7fc485ac9d00>, <Metabolite mal__L_c at 0x7fc485ac9d60>, <Metabolite mal__L_e at 0x7fc485ac9dc0>, <Metabolite nad_c at 0x7fc42da512b0>, <Metabolite nadh_c at 0x7fc49c73c520>, <Metabolite nadp_c at 0x7fc4307249a0>, <Metabolite nadph_c at 0x7fc42da51130>, <Metabolite nh4_c at 0x7fc42da511f0>, <Metabolite nh4_e at 0x7fc485ac9f10>, <Metabolite o2_c at 0x7fc485ac9f40>, <Metabolite o2_e at 0x7fc485ac9fa0>, <Metabolite oaa_c at 0x7fc485ac9e50>, <Metabolite pep_c at 0x7fc485ac93a0>, <Metabolite pi_c at 0x7fc485ac9e20>, <Metabolite pi_e at 0x7fc485ac9f70>, <Metabolite pyr_c at 0x7fc485ac9d90>, <Metabolite pyr_e at 0x7fc485ac9df0>, <Metabolite q8_c at 0x7fc485ac9280>, <Metabolite q8h2_c at 0x7fc485ac9ee0>, <Metabolite r5p_c at 0x7fc485ac9310>, <Metabolite ru5p__D_c at 0x7fc485adf580>, <Metabolite s7p_c at 0x7fc485adf5b0>, <Metabolite succ_c at 0x7fc485adf5e0>, <Metabolite succ_e at 0x7fc485adf610>, <Metabolite succoa_c at 0x7fc485adf670>, <Metabolite xu5p__D_c at 0x7fc485adf6d0>]>"
      ]
     },
     "execution_count": 62,
     "metadata": {},
     "output_type": "execute_result"
    }
   ],
   "source": [
    "model.metabolites.index"
   ]
  },
  {
   "cell_type": "code",
   "execution_count": 53,
   "metadata": {},
   "outputs": [
    {
     "data": {
      "text/html": [
       "\n",
       "        <table>\n",
       "            <tr>\n",
       "                <td><strong>Reaction identifier</strong></td><td>ALCD2x</td>\n",
       "            </tr><tr>\n",
       "                <td><strong>Name</strong></td><td>Alcohol dehydrogenase (ethanol)</td>\n",
       "            </tr><tr>\n",
       "                <td><strong>Memory address</strong></td>\n",
       "                <td>0x07fc485aaa760</td>\n",
       "            </tr><tr>\n",
       "                <td><strong>Stoichiometry</strong></td>\n",
       "                <td>\n",
       "                    <p style='text-align:right'>etoh_c + nad_c <=> acald_c + h_c + nadh_c</p>\n",
       "                    <p style='text-align:right'>Ethanol + Nicotinamide adenine dinucleotide <=> Acetaldehyde + H+ + Nicotinamide adenine dinucleotide - reduced</p>\n",
       "                </td>\n",
       "            </tr><tr>\n",
       "                <td><strong>GPR</strong></td><td>b1478 or b0356 or b1241</td>\n",
       "            </tr><tr>\n",
       "                <td><strong>Lower bound</strong></td><td>-1000.0</td>\n",
       "            </tr><tr>\n",
       "                <td><strong>Upper bound</strong></td><td>1000.0</td>\n",
       "            </tr>\n",
       "        </table>\n",
       "        "
      ],
      "text/plain": [
       "<Reaction ALCD2x at 0x7fc485aaa760>"
      ]
     },
     "execution_count": 53,
     "metadata": {},
     "output_type": "execute_result"
    }
   ],
   "source": [
    "model.reactions.get_by_id(\"ALCD2x\")"
   ]
  },
  {
   "cell_type": "code",
   "execution_count": 57,
   "metadata": {},
   "outputs": [
    {
     "data": {
      "text/plain": [
       "[<Reaction ACALD at 0x7fc485af15e0>,\n",
       " <Reaction ACALDt at 0x7fc485a89f10>,\n",
       " <Reaction ACKr at 0x7fc485aaa8e0>,\n",
       " <Reaction ACONTa at 0x7fc485aaa610>,\n",
       " <Reaction ACONTb at 0x7fc485aaa9d0>,\n",
       " <Reaction ACt2r at 0x7fc485aaafa0>,\n",
       " <Reaction ADK1 at 0x7fc485aaaa60>,\n",
       " <Reaction AKGDH at 0x7fc485aaafd0>,\n",
       " <Reaction AKGt2r at 0x7fc485aaa940>,\n",
       " <Reaction ALCD2x at 0x7fc485aaa760>,\n",
       " <Reaction ATPM at 0x7fc485aaaf70>,\n",
       " <Reaction ATPS4r at 0x7fc485aaad90>,\n",
       " <Reaction BIOMASS_Ecoli_core_w_GAM at 0x7fc485ab7d30>,\n",
       " <Reaction CO2t at 0x7fc485ac1af0>,\n",
       " <Reaction CS at 0x7fc485aaa040>,\n",
       " <Reaction CYTBD at 0x7fc485ac1640>,\n",
       " <Reaction D_LACt2 at 0x7fc485aaad60>,\n",
       " <Reaction ENO at 0x7fc485a4cfa0>,\n",
       " <Reaction ETOHt2r at 0x7fc485a4cfd0>,\n",
       " <Reaction EX_ac_e at 0x7fc485ac16a0>,\n",
       " <Reaction EX_acald_e at 0x7fc485ac1130>,\n",
       " <Reaction EX_akg_e at 0x7fc485aaa160>,\n",
       " <Reaction EX_co2_e at 0x7fc485aaab80>,\n",
       " <Reaction EX_etoh_e at 0x7fc485aaa1f0>,\n",
       " <Reaction EX_for_e at 0x7fc485aaa070>,\n",
       " <Reaction EX_fru_e at 0x7fc485aaa130>,\n",
       " <Reaction EX_fum_e at 0x7fc485aaa100>,\n",
       " <Reaction EX_glc__D_e at 0x7fc485a55ac0>,\n",
       " <Reaction EX_gln__L_e at 0x7fc485a553a0>,\n",
       " <Reaction EX_glu__L_e at 0x7fc485a55970>,\n",
       " <Reaction EX_h_e at 0x7fc485a55b80>,\n",
       " <Reaction EX_h2o_e at 0x7fc485a55c10>,\n",
       " <Reaction EX_lac__D_e at 0x7fc485a55c40>,\n",
       " <Reaction EX_mal__L_e at 0x7fc485a55a90>,\n",
       " <Reaction EX_nh4_e at 0x7fc485a55d60>,\n",
       " <Reaction EX_o2_e at 0x7fc485a55ca0>,\n",
       " <Reaction EX_pi_e at 0x7fc485a55f70>,\n",
       " <Reaction EX_pyr_e at 0x7fc485a55fa0>,\n",
       " <Reaction EX_succ_e at 0x7fc485a559d0>,\n",
       " <Reaction FBA at 0x7fc485a559a0>,\n",
       " <Reaction FBP at 0x7fc485a4cc10>,\n",
       " <Reaction FORt2 at 0x7fc485ac1940>,\n",
       " <Reaction FORti at 0x7fc485a62c70>,\n",
       " <Reaction FRD7 at 0x7fc485a62f40>,\n",
       " <Reaction FRUpts2 at 0x7fc485a629a0>,\n",
       " <Reaction FUM at 0x7fc485a62ca0>,\n",
       " <Reaction FUMt2_2 at 0x7fc485a62a00>,\n",
       " <Reaction G6PDH2r at 0x7fc485a625b0>,\n",
       " <Reaction GAPD at 0x7fc485a62670>,\n",
       " <Reaction GLCpts at 0x7fc485a6df40>,\n",
       " <Reaction GLNS at 0x7fc485a62d60>,\n",
       " <Reaction GLNabc at 0x7fc485a4cee0>,\n",
       " <Reaction GLUDy at 0x7fc485a6d640>,\n",
       " <Reaction GLUN at 0x7fc485a778b0>,\n",
       " <Reaction GLUSy at 0x7fc485a62f10>,\n",
       " <Reaction GLUt2r at 0x7fc485a62940>,\n",
       " <Reaction GND at 0x7fc485a62cd0>,\n",
       " <Reaction H2Ot at 0x7fc485a81d90>,\n",
       " <Reaction ICDHyr at 0x7fc485a62f70>,\n",
       " <Reaction ICL at 0x7fc485a62fa0>,\n",
       " <Reaction LDH_D at 0x7fc485a629d0>,\n",
       " <Reaction MALS at 0x7fc485a62880>,\n",
       " <Reaction MALt2_2 at 0x7fc485a818e0>,\n",
       " <Reaction MDH at 0x7fc485a81e50>,\n",
       " <Reaction ME1 at 0x7fc485a6dfd0>,\n",
       " <Reaction ME2 at 0x7fc485a628e0>,\n",
       " <Reaction NADH16 at 0x7fc485a818b0>,\n",
       " <Reaction NADTRHD at 0x7fc485a15c40>,\n",
       " <Reaction NH4t at 0x7fc485a15670>,\n",
       " <Reaction O2t at 0x7fc485a15940>,\n",
       " <Reaction PDH at 0x7fc485a15730>,\n",
       " <Reaction PFK at 0x7fc485a0d8b0>,\n",
       " <Reaction PFL at 0x7fc485a15df0>,\n",
       " <Reaction PGI at 0x7fc485a20fa0>,\n",
       " <Reaction PGK at 0x7fc485a6dd30>,\n",
       " <Reaction PGL at 0x7fc485a0d820>,\n",
       " <Reaction PGM at 0x7fc485a6deb0>,\n",
       " <Reaction PIt2r at 0x7fc485a81d00>,\n",
       " <Reaction PPC at 0x7fc485a158b0>,\n",
       " <Reaction PPCK at 0x7fc485a2ad00>,\n",
       " <Reaction PPS at 0x7fc485a2abb0>,\n",
       " <Reaction PTAr at 0x7fc485a81cd0>,\n",
       " <Reaction PYK at 0x7fc485a20ac0>,\n",
       " <Reaction PYRt2 at 0x7fc485a2ae80>,\n",
       " <Reaction RPE at 0x7fc485a20d90>,\n",
       " <Reaction RPI at 0x7fc485a0dd30>,\n",
       " <Reaction SUCCt2_2 at 0x7fc485a2ad60>,\n",
       " <Reaction SUCCt3 at 0x7fc485a34f70>,\n",
       " <Reaction SUCDi at 0x7fc485a34400>,\n",
       " <Reaction SUCOAS at 0x7fc485a15c70>,\n",
       " <Reaction TALA at 0x7fc485a0db50>,\n",
       " <Reaction THD2 at 0x7fc485a3fca0>,\n",
       " <Reaction TKT1 at 0x7fc485a3fd60>,\n",
       " <Reaction TKT2 at 0x7fc485a34be0>,\n",
       " <Reaction TPI at 0x7fc4859c9c70>]"
      ]
     },
     "execution_count": 57,
     "metadata": {},
     "output_type": "execute_result"
    }
   ],
   "source": [
    "model.reactions"
   ]
  },
  {
   "cell_type": "code",
   "execution_count": 58,
   "metadata": {},
   "outputs": [
    {
     "data": {
      "text/plain": [
       "<bound method DictList.index of [<Reaction ACALD at 0x7fc485af15e0>, <Reaction ACALDt at 0x7fc485a89f10>, <Reaction ACKr at 0x7fc485aaa8e0>, <Reaction ACONTa at 0x7fc485aaa610>, <Reaction ACONTb at 0x7fc485aaa9d0>, <Reaction ACt2r at 0x7fc485aaafa0>, <Reaction ADK1 at 0x7fc485aaaa60>, <Reaction AKGDH at 0x7fc485aaafd0>, <Reaction AKGt2r at 0x7fc485aaa940>, <Reaction ALCD2x at 0x7fc485aaa760>, <Reaction ATPM at 0x7fc485aaaf70>, <Reaction ATPS4r at 0x7fc485aaad90>, <Reaction BIOMASS_Ecoli_core_w_GAM at 0x7fc485ab7d30>, <Reaction CO2t at 0x7fc485ac1af0>, <Reaction CS at 0x7fc485aaa040>, <Reaction CYTBD at 0x7fc485ac1640>, <Reaction D_LACt2 at 0x7fc485aaad60>, <Reaction ENO at 0x7fc485a4cfa0>, <Reaction ETOHt2r at 0x7fc485a4cfd0>, <Reaction EX_ac_e at 0x7fc485ac16a0>, <Reaction EX_acald_e at 0x7fc485ac1130>, <Reaction EX_akg_e at 0x7fc485aaa160>, <Reaction EX_co2_e at 0x7fc485aaab80>, <Reaction EX_etoh_e at 0x7fc485aaa1f0>, <Reaction EX_for_e at 0x7fc485aaa070>, <Reaction EX_fru_e at 0x7fc485aaa130>, <Reaction EX_fum_e at 0x7fc485aaa100>, <Reaction EX_glc__D_e at 0x7fc485a55ac0>, <Reaction EX_gln__L_e at 0x7fc485a553a0>, <Reaction EX_glu__L_e at 0x7fc485a55970>, <Reaction EX_h_e at 0x7fc485a55b80>, <Reaction EX_h2o_e at 0x7fc485a55c10>, <Reaction EX_lac__D_e at 0x7fc485a55c40>, <Reaction EX_mal__L_e at 0x7fc485a55a90>, <Reaction EX_nh4_e at 0x7fc485a55d60>, <Reaction EX_o2_e at 0x7fc485a55ca0>, <Reaction EX_pi_e at 0x7fc485a55f70>, <Reaction EX_pyr_e at 0x7fc485a55fa0>, <Reaction EX_succ_e at 0x7fc485a559d0>, <Reaction FBA at 0x7fc485a559a0>, <Reaction FBP at 0x7fc485a4cc10>, <Reaction FORt2 at 0x7fc485ac1940>, <Reaction FORti at 0x7fc485a62c70>, <Reaction FRD7 at 0x7fc485a62f40>, <Reaction FRUpts2 at 0x7fc485a629a0>, <Reaction FUM at 0x7fc485a62ca0>, <Reaction FUMt2_2 at 0x7fc485a62a00>, <Reaction G6PDH2r at 0x7fc485a625b0>, <Reaction GAPD at 0x7fc485a62670>, <Reaction GLCpts at 0x7fc485a6df40>, <Reaction GLNS at 0x7fc485a62d60>, <Reaction GLNabc at 0x7fc485a4cee0>, <Reaction GLUDy at 0x7fc485a6d640>, <Reaction GLUN at 0x7fc485a778b0>, <Reaction GLUSy at 0x7fc485a62f10>, <Reaction GLUt2r at 0x7fc485a62940>, <Reaction GND at 0x7fc485a62cd0>, <Reaction H2Ot at 0x7fc485a81d90>, <Reaction ICDHyr at 0x7fc485a62f70>, <Reaction ICL at 0x7fc485a62fa0>, <Reaction LDH_D at 0x7fc485a629d0>, <Reaction MALS at 0x7fc485a62880>, <Reaction MALt2_2 at 0x7fc485a818e0>, <Reaction MDH at 0x7fc485a81e50>, <Reaction ME1 at 0x7fc485a6dfd0>, <Reaction ME2 at 0x7fc485a628e0>, <Reaction NADH16 at 0x7fc485a818b0>, <Reaction NADTRHD at 0x7fc485a15c40>, <Reaction NH4t at 0x7fc485a15670>, <Reaction O2t at 0x7fc485a15940>, <Reaction PDH at 0x7fc485a15730>, <Reaction PFK at 0x7fc485a0d8b0>, <Reaction PFL at 0x7fc485a15df0>, <Reaction PGI at 0x7fc485a20fa0>, <Reaction PGK at 0x7fc485a6dd30>, <Reaction PGL at 0x7fc485a0d820>, <Reaction PGM at 0x7fc485a6deb0>, <Reaction PIt2r at 0x7fc485a81d00>, <Reaction PPC at 0x7fc485a158b0>, <Reaction PPCK at 0x7fc485a2ad00>, <Reaction PPS at 0x7fc485a2abb0>, <Reaction PTAr at 0x7fc485a81cd0>, <Reaction PYK at 0x7fc485a20ac0>, <Reaction PYRt2 at 0x7fc485a2ae80>, <Reaction RPE at 0x7fc485a20d90>, <Reaction RPI at 0x7fc485a0dd30>, <Reaction SUCCt2_2 at 0x7fc485a2ad60>, <Reaction SUCCt3 at 0x7fc485a34f70>, <Reaction SUCDi at 0x7fc485a34400>, <Reaction SUCOAS at 0x7fc485a15c70>, <Reaction TALA at 0x7fc485a0db50>, <Reaction THD2 at 0x7fc485a3fca0>, <Reaction TKT1 at 0x7fc485a3fd60>, <Reaction TKT2 at 0x7fc485a34be0>, <Reaction TPI at 0x7fc4859c9c70>]>"
      ]
     },
     "execution_count": 58,
     "metadata": {},
     "output_type": "execute_result"
    }
   ],
   "source": [
    "model.reactions.index"
   ]
  },
  {
   "cell_type": "code",
   "execution_count": 69,
   "metadata": {},
   "outputs": [
    {
     "data": {
      "text/plain": [
       "[(<Metabolite 13dpg_c at 0x7fc42da61220>, 2.0),\n",
       " (<Metabolite 2pg_c at 0x7fc42da61280>, 2.0),\n",
       " (<Metabolite 3pg_c at 0x7fc42da61340>, 3.0),\n",
       " (<Metabolite 6pgc_c at 0x7fc42da61460>, 2.0),\n",
       " (<Metabolite 6pgl_c at 0x7fc42da61550>, 2.0),\n",
       " (<Metabolite ac_c at 0x7fc42da615b0>, 2.0),\n",
       " (<Metabolite ac_e at 0x7fc42da61610>, 2.0),\n",
       " (<Metabolite acald_c at 0x7fc42da616d0>, 3.0),\n",
       " (<Metabolite acald_e at 0x7fc42da61700>, 2.0),\n",
       " (<Metabolite accoa_c at 0x7fc42da61730>, 7.0),\n",
       " (<Metabolite acon_C_c at 0x7fc42da617f0>, 2.0),\n",
       " (<Metabolite actp_c at 0x7fc42da618b0>, 2.0),\n",
       " (<Metabolite adp_c at 0x7fc42da61940>, 12.0),\n",
       " (<Metabolite akg_c at 0x7fc42da619d0>, 6.0),\n",
       " (<Metabolite akg_e at 0x7fc42da61a60>, 2.0),\n",
       " (<Metabolite amp_c at 0x7fc42da61ac0>, 2.0),\n",
       " (<Metabolite atp_c at 0x7fc42da61b20>, 13.0),\n",
       " (<Metabolite cit_c at 0x7fc42da61bb0>, 2.0),\n",
       " (<Metabolite co2_c at 0x7fc42da61c70>, 9.0),\n",
       " (<Metabolite co2_e at 0x7fc42da61d30>, 2.0),\n",
       " (<Metabolite coa_c at 0x7fc42da61df0>, 9.0),\n",
       " (<Metabolite dhap_c at 0x7fc42da61e80>, 2.0),\n",
       " (<Metabolite e4p_c at 0x7fc42da61f10>, 3.0),\n",
       " (<Metabolite etoh_c at 0x7fc42da61f70>, 2.0),\n",
       " (<Metabolite etoh_e at 0x7fc42da61fd0>, 2.0),\n",
       " (<Metabolite f6p_c at 0x7fc42da61100>, 7.0),\n",
       " (<Metabolite fdp_c at 0x7fc42da613a0>, 3.0),\n",
       " (<Metabolite for_c at 0x7fc42da61400>, 3.0),\n",
       " (<Metabolite for_e at 0x7fc42da61430>, 3.0),\n",
       " (<Metabolite fru_e at 0x7fc42da61fa0>, 2.0),\n",
       " (<Metabolite fum_c at 0x7fc42da61310>, 4.0),\n",
       " (<Metabolite fum_e at 0x7fc42da61520>, 2.0),\n",
       " (<Metabolite g3p_c at 0x7fc42da61f40>, 7.0),\n",
       " (<Metabolite g6p_c at 0x7fc485ac94f0>, 4.0),\n",
       " (<Metabolite glc__D_e at 0x7fc485ac9520>, 2.0),\n",
       " (<Metabolite gln__L_c at 0x7fc485ac95b0>, 5.0),\n",
       " (<Metabolite gln__L_e at 0x7fc485ac9640>, 2.0),\n",
       " (<Metabolite glu__L_c at 0x7fc485ac96d0>, 6.0),\n",
       " (<Metabolite glu__L_e at 0x7fc485ac9760>, 2.0),\n",
       " (<Metabolite glx_c at 0x7fc485ac9820>, 2.0),\n",
       " (<Metabolite h2o_c at 0x7fc485ac98b0>, 18.0),\n",
       " (<Metabolite h2o_e at 0x7fc485ac9940>, 2.0),\n",
       " (<Metabolite h_c at 0x7fc485ac99d0>, 35.0),\n",
       " (<Metabolite h_e at 0x7fc485ac9a60>, 17.0),\n",
       " (<Metabolite icit_c at 0x7fc485ac9ac0>, 3.0),\n",
       " (<Metabolite lac__D_c at 0x7fc485ac9be0>, 2.0),\n",
       " (<Metabolite lac__D_e at 0x7fc485ac9d00>, 2.0),\n",
       " (<Metabolite mal__L_c at 0x7fc485ac9d60>, 6.0),\n",
       " (<Metabolite mal__L_e at 0x7fc485ac9dc0>, 2.0),\n",
       " (<Metabolite nad_c at 0x7fc42da512b0>, 12.0),\n",
       " (<Metabolite nadh_c at 0x7fc49c73c520>, 12.0),\n",
       " (<Metabolite nadp_c at 0x7fc4307249a0>, 9.0),\n",
       " (<Metabolite nadph_c at 0x7fc42da51130>, 9.0),\n",
       " (<Metabolite nh4_c at 0x7fc42da511f0>, 4.0),\n",
       " (<Metabolite nh4_e at 0x7fc485ac9f10>, 2.0),\n",
       " (<Metabolite o2_c at 0x7fc485ac9f40>, 2.0),\n",
       " (<Metabolite o2_e at 0x7fc485ac9fa0>, 2.0),\n",
       " (<Metabolite oaa_c at 0x7fc485ac9e50>, 5.0),\n",
       " (<Metabolite pep_c at 0x7fc485ac93a0>, 8.0),\n",
       " (<Metabolite pi_c at 0x7fc485ac9e20>, 12.0),\n",
       " (<Metabolite pi_e at 0x7fc485ac9f70>, 2.0),\n",
       " (<Metabolite pyr_c at 0x7fc485ac9d90>, 11.0),\n",
       " (<Metabolite pyr_e at 0x7fc485ac9df0>, 2.0),\n",
       " (<Metabolite q8_c at 0x7fc485ac9280>, 4.0),\n",
       " (<Metabolite q8h2_c at 0x7fc485ac9ee0>, 4.0),\n",
       " (<Metabolite r5p_c at 0x7fc485ac9310>, 3.0),\n",
       " (<Metabolite ru5p__D_c at 0x7fc485adf580>, 3.0),\n",
       " (<Metabolite s7p_c at 0x7fc485adf5b0>, 2.0),\n",
       " (<Metabolite succ_c at 0x7fc485adf5e0>, 6.0),\n",
       " (<Metabolite succ_e at 0x7fc485adf610>, 3.0),\n",
       " (<Metabolite succoa_c at 0x7fc485adf670>, 2.0),\n",
       " (<Metabolite xu5p__D_c at 0x7fc485adf6d0>, 3.0)]"
      ]
     },
     "execution_count": 69,
     "metadata": {},
     "output_type": "execute_result"
    }
   ],
   "source": [
    "list(zip(model.metabolites, A_x.diagonal()))"
   ]
  },
  {
   "cell_type": "code",
   "execution_count": 111,
   "metadata": {},
   "outputs": [],
   "source": [
    "connectivity = sorted(list(zip(model.metabolites, A_x.diagonal())), key= lambda item: item[1], reverse = True) "
   ]
  },
  {
   "cell_type": "code",
   "execution_count": 118,
   "metadata": {},
   "outputs": [],
   "source": [
    "res = list(zip(*connectivity))"
   ]
  },
  {
   "cell_type": "code",
   "execution_count": 123,
   "metadata": {},
   "outputs": [
    {
     "data": {
      "text/plain": [
       "[<Metabolite h_c at 0x7fc4847a1670>,\n",
       " <Metabolite h2o_c at 0x7fc4847c9c40>,\n",
       " <Metabolite h_e at 0x7fc4847a1dc0>,\n",
       " <Metabolite atp_c at 0x7fc4847abc10>,\n",
       " <Metabolite adp_c at 0x7fc4847ab0d0>,\n",
       " <Metabolite nad_c at 0x7fc4847ba0d0>,\n",
       " <Metabolite nadh_c at 0x7fc4847baf70>,\n",
       " <Metabolite pi_c at 0x7fc484727ac0>,\n",
       " <Metabolite pyr_c at 0x7fc4847279d0>,\n",
       " <Metabolite co2_c at 0x7fc4847abdf0>]"
      ]
     },
     "execution_count": 123,
     "metadata": {},
     "output_type": "execute_result"
    }
   ],
   "source": [
    "list(res[0][:10])"
   ]
  },
  {
   "cell_type": "code",
   "execution_count": 84,
   "metadata": {},
   "outputs": [
    {
     "data": {
      "text/plain": [
       "list"
      ]
     },
     "execution_count": 84,
     "metadata": {},
     "output_type": "execute_result"
    }
   ],
   "source": [
    "type(connectivity[0:10])"
   ]
  }
 ],
 "metadata": {
  "kernelspec": {
   "display_name": "Python 3",
   "language": "python",
   "name": "python3"
  },
  "language_info": {
   "codemirror_mode": {
    "name": "ipython",
    "version": 3
   },
   "file_extension": ".py",
   "mimetype": "text/x-python",
   "name": "python",
   "nbconvert_exporter": "python",
   "pygments_lexer": "ipython3",
   "version": "3.8.5"
  }
 },
 "nbformat": 4,
 "nbformat_minor": 4
}
